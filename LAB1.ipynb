{
  "nbformat": 4,
  "nbformat_minor": 0,
  "metadata": {
    "colab": {
      "provenance": [],
      "authorship_tag": "ABX9TyNIWIi1M0wbH4hYVcI63crL",
      "include_colab_link": true
    },
    "kernelspec": {
      "name": "python3",
      "display_name": "Python 3"
    },
    "language_info": {
      "name": "python"
    }
  },
  "cells": [
    {
      "cell_type": "markdown",
      "metadata": {
        "id": "view-in-github",
        "colab_type": "text"
      },
      "source": [
        "<a href=\"https://colab.research.google.com/github/Nguyen-Thi-Thanh-Ngan/ML/blob/main/LAB1.ipynb\" target=\"_parent\"><img src=\"https://colab.research.google.com/assets/colab-badge.svg\" alt=\"Open In Colab\"/></a>"
      ]
    },
    {
      "cell_type": "code",
      "execution_count": 3,
      "metadata": {
        "colab": {
          "base_uri": "https://localhost:8080/"
        },
        "id": "HMKaqiPcpjc3",
        "outputId": "6b336e8e-6e7c-4bb7-dff8-ab17a39877c0"
      },
      "outputs": [
        {
          "output_type": "stream",
          "name": "stdout",
          "text": [
            "Enter n: 3\n",
            "Enter element 1: 4\n",
            "Enter element 2: 6\n",
            "Enter element 3: 1\n",
            "Max in L: 6\n",
            "Min in L: 1\n",
            "Sum of elements: 11\n",
            "Sort the List in acsending: [1, 4, 6]\n",
            "Positive numbers: 3\n",
            "Nehative numbers: 0\n"
          ]
        }
      ],
      "source": [
        "n = int(input(\"Enter n: \"))\n",
        "L = []\n",
        "\n",
        "for i in range(n):\n",
        "  element = int(input(f\"Enter element {i+1}: \"))\n",
        "  L.append(element)\n",
        "\n",
        "max_element = max(L)\n",
        "min_element = min(L)\n",
        "sum_of_elements = sum(L)\n",
        "L.sort()\n",
        "\n",
        "positive_count = 0\n",
        "negative_count = 0\n",
        "\n",
        "for element in L:\n",
        "  if element >= 0:\n",
        "    positive_count += 1\n",
        "  if element <= 0:\n",
        "    negative_count += 1\n",
        "\n",
        "print(f\"Max in L: {max_element}\")\n",
        "print(f\"Min in L: {min_element}\")\n",
        "print(f\"Sum of elements: {sum_of_elements}\")\n",
        "print(f\"Sort the List in acsending order: {L}\")\n",
        "print(f\"Positive numbers: {positive_count}\")\n",
        "print(f\"Nehative numbers: {negative_count}\")\n",
        "\n"
      ]
    }
  ]
}