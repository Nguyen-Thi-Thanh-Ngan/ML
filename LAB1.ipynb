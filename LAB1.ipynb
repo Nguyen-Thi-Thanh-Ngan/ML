{
  "nbformat": 4,
  "nbformat_minor": 0,
  "metadata": {
    "colab": {
      "provenance": [],
      "authorship_tag": "ABX9TyNKT6LMukY9ix4aD73VAAP0",
      "include_colab_link": true
    },
    "kernelspec": {
      "name": "python3",
      "display_name": "Python 3"
    },
    "language_info": {
      "name": "python"
    }
  },
  "cells": [
    {
      "cell_type": "markdown",
      "metadata": {
        "id": "view-in-github",
        "colab_type": "text"
      },
      "source": [
        "<a href=\"https://colab.research.google.com/github/Nguyen-Thi-Thanh-Ngan/ML/blob/main/LAB1.ipynb\" target=\"_parent\"><img src=\"https://colab.research.google.com/assets/colab-badge.svg\" alt=\"Open In Colab\"/></a>"
      ]
    },
    {
      "cell_type": "code",
      "execution_count": 12,
      "metadata": {
        "id": "HMKaqiPcpjc3",
        "colab": {
          "base_uri": "https://localhost:8080/"
        },
        "outputId": "9117eac5-1678-4036-c1c1-7485e324e2f7"
      },
      "outputs": [
        {
          "output_type": "stream",
          "name": "stdout",
          "text": [
            "Enter n: 4\n",
            "Enter element 1: 1\n",
            "Enter element 2: 4\n",
            "Enter element 3: 5\n",
            "Enter element 4: 2\n",
            "Max in L: 5\n",
            "Min in L: 1\n",
            "Sum of elements: 12\n",
            "Sort the List in acsending order: [1, 2, 4, 5]\n",
            "Positive numbers: 4\n",
            "Nehative numbers: 0\n"
          ]
        }
      ],
      "source": [
        "#task1.1\n",
        "n = int(input(\"Enter n: \"))\n",
        "L = []\n",
        "\n",
        "for i in range(n):\n",
        "  element = int(input(f\"Enter element {i+1}: \"))\n",
        "  L.append(element)\n",
        "\n",
        "max_element = max(L)\n",
        "min_element = min(L)\n",
        "sum_of_elements = sum(L)\n",
        "L.sort()\n",
        "\n",
        "positive_count = 0\n",
        "negative_count = 0\n",
        "\n",
        "for element in L:\n",
        "  if element >= 0:\n",
        "    positive_count += 1\n",
        "  if element <= 0:\n",
        "    negative_count += 1\n",
        "\n",
        "print(f\"Max in L: {max_element}\")\n",
        "print(f\"Min in L: {min_element}\")\n",
        "print(f\"Sum of elements: {sum_of_elements}\")\n",
        "print(f\"Sort the List in acsending order: {L}\")\n",
        "print(f\"Positive numbers: {positive_count}\")\n",
        "print(f\"Nehative numbers: {negative_count}\")\n"
      ]
    },
    {
      "cell_type": "code",
      "source": [
        "#task1.2\n",
        "def compute_S(n):\n",
        "  if n == 1:\n",
        "    return 1\n",
        "  elif n <= 0:\n",
        "    print(\"n must be bigger than 0\")\n",
        "  else:\n",
        "    result = 0\n",
        "    result += n * compute_S(n-1)\n",
        "    return result\n",
        "def compute_task2(n):\n",
        "  if n == 1:\n",
        "    return 1\n",
        "  else:\n",
        "    return compute_task2(n-1) + compute_S(n)\n",
        "def main():\n",
        "  n = int(input(\"Enter n: \"))\n",
        "  S_n = compute_task2(n)\n",
        "  print(f\"S({n}) = {S_n}\")\n",
        "if __name__==\"__main__\":\n",
        "   main()"
      ],
      "metadata": {
        "colab": {
          "base_uri": "https://localhost:8080/"
        },
        "id": "6VkjxkrMenMi",
        "outputId": "9a705b59-3ce2-4536-df14-b4d8b2fa70d2"
      },
      "execution_count": 13,
      "outputs": [
        {
          "output_type": "stream",
          "name": "stdout",
          "text": [
            "Enter n: 4\n",
            "S(4) = 33\n"
          ]
        }
      ]
    }
  ]
}